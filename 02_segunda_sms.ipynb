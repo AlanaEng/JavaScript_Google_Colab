'''
 Isso executa o Javascript como uma chamada de bloqueio 
 do Python e retorna o resultado da expressão.
 Nota: Isso difere de display.Javascript, pois a expressão Javascript 
 não persiste no documento do caderno e não será executada quando o 
 documento for recarregado.
'''
from IPython.display import display, Javascript
from google.colab.output import eval_js

js = Javascript(''' 
                window.someValue = new Promise(resolve => {
                    setTimeout(() => {
                        resolve("Hello meu mundo!! / VcÉfODA!!")
                    }, 100)
                })
                ''')

display(js)

value = eval_js('someValue')
value

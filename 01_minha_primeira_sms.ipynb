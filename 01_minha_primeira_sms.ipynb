from IPython.display import display, Javascript
from google.colab.output import eval_js


# minha primeira mensagem 
js = Javascript(''' 
    area = document.querySelector("#output-area")
    area.appendChild(document.createTextNode("hello world!>>>>>>>> ")) 
    area.appendChild(document.createTextNode(" Você pode tudo!")) 
    
                ''')
display(js)
